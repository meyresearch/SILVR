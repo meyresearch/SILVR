{
 "cells": [
  {
   "cell_type": "markdown",
   "id": "067612cd",
   "metadata": {},
   "source": [
    "# Extract shapegauss results\n",
    "\n",
    "This notebook takes `data_optim.csv` (outputted by 5_extract_geometry_stabilities). This notebook then creates the new csv `data_all.csv` which contains all the results from this project neccessary to create the metrics figure."
   ]
  },
  {
   "cell_type": "code",
   "execution_count": 2,
   "id": "03139122",
   "metadata": {},
   "outputs": [],
   "source": [
    "import pandas as pd\n",
    "import glob"
   ]
  },
  {
   "cell_type": "code",
   "execution_count": 7,
   "id": "e376115a",
   "metadata": {},
   "outputs": [],
   "source": [
    "exp_names = [\"exp_22\",\"exp_23\",\"exp_24\",\"exp_25\",\"exp_26\",\"exp_27\",\"exp_28\"]\n",
    "shapegauss_exp_list = [f\"shapegauss/{x}/\" for x in exp_names]#shapegauss\n",
    "experiment_path = \"experiments/\""
   ]
  },
  {
   "cell_type": "code",
   "execution_count": 8,
   "id": "a1d0936d",
   "metadata": {},
   "outputs": [],
   "source": [
    "shapegauss_results = []\n",
    "for path in shapegauss_exp_list:\n",
    "    shapegauss_mol_list = glob.glob(path+\"*.sdf\")\n",
    "    \n",
    "    for mol_path in shapegauss_mol_list:\n",
    "        mol_id = mol_path.split(\"/\")[-1].split(\".\")[0]\n",
    "        \n",
    "        with open(mol_path, \"r\") as readfile:\n",
    "            shapegauss_score = float(readfile.readlines()[-3])\n",
    "            shapegauss_results.append([mol_id,shapegauss_score])"
   ]
  },
  {
   "cell_type": "code",
   "execution_count": 9,
   "id": "1a89af60",
   "metadata": {},
   "outputs": [],
   "source": [
    "old_df = pd.read_csv(experiment_path+\"data_optim.csv\")\n",
    "shapegauss_results_df = pd.DataFrame(shapegauss_results, columns=[\"mol_id\", \"shapegauss\"]).set_index(\"mol_id\")\n",
    "df = pd.merge(old_df,shapegauss_results_df, on=\"mol_id\",how='left')\n",
    "df.to_csv(experiment_path+\"data_all.csv\",index=False)"
   ]
  },
  {
   "cell_type": "code",
   "execution_count": 11,
   "id": "ab755b0a",
   "metadata": {},
   "outputs": [],
   "source": [
    "#shapegauss_results_df"
   ]
  },
  {
   "cell_type": "code",
   "execution_count": null,
   "id": "6ee15979",
   "metadata": {},
   "outputs": [],
   "source": []
  }
 ],
 "metadata": {
  "kernelspec": {
   "display_name": "Python 3 (ipykernel)",
   "language": "python",
   "name": "python3"
  },
  "language_info": {
   "codemirror_mode": {
    "name": "ipython",
    "version": 3
   },
   "file_extension": ".py",
   "mimetype": "text/x-python",
   "name": "python",
   "nbconvert_exporter": "python",
   "pygments_lexer": "ipython3",
   "version": "3.10.5"
  }
 },
 "nbformat": 4,
 "nbformat_minor": 5
}
