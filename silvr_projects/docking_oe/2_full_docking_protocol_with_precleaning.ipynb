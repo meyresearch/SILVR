{
 "cells": [
  {
   "cell_type": "markdown",
   "id": "00f266a5",
   "metadata": {},
   "source": [
    "# This notebook contains an updated docking protocol that was attempted. This includes the cleaning of molecules by adding missing protons. For Toni.\n"
   ]
  },
  {
   "cell_type": "code",
   "execution_count": null,
   "id": "52180e63",
   "metadata": {},
   "outputs": [],
   "source": [
    "\"\"\"\n",
    "#-------old code--------------\n",
    "#This cell does not add protons to samples before docking\n",
    "#I think the addition of protons is cruical for scoring\n",
    "\n",
    "\n",
    "import os\n",
    "import glob\n",
    "\n",
    "exp_list = glob.glob(\"../experiments/exp_*\")\n",
    "\n",
    "\n",
    "if not os.path.exists(f'chemgauss_docking/'):\n",
    "    os.makedirs(f'chemgauss_docking/')\n",
    "        \n",
    "        \n",
    "for exp in exp_list:\n",
    "    exp_id = exp.split(\"/\")[-1]\n",
    "    \n",
    "    if not os.path.exists(f'chemgauss_docking/{exp_id}/'):\n",
    "        os.makedirs(f'chemgauss_docking/{exp_id}/')\n",
    "        \n",
    "        \n",
    "    \n",
    "    ligands = glob.glob(f\"../experiments/{exp_id}/*.txt\")\n",
    "\n",
    "    for ligand in ligands:\n",
    "        mol_id = ligand.split(\"/\")[-1].split(\".\")[0]\n",
    "\n",
    "        with open(ligand, \"r\") as readfile:\n",
    "            file = readfile.read()\n",
    "\n",
    "        with open(\"tmp.xyz\",\"w\") as writefile:\n",
    "            writefile.write(file)\n",
    "        \n",
    "        #This protocol does not add protons to the molecules before docking\n",
    "        #I'm pretty sure the protons are crucial for successful scoring.\n",
    "        #os.system(f'python DockMolecules.py -in tmp.xyz -out chemgauss_docking/{exp_id}/{mol_id}.sdf -receptor mpro2.oedu')\n",
    "        \n",
    "\"\"\""
   ]
  },
  {
   "cell_type": "code",
   "execution_count": 90,
   "id": "86239bb8",
   "metadata": {
    "scrolled": true
   },
   "outputs": [
    {
     "name": "stdout",
     "output_type": "stream",
     "text": [
      "cleaning stable:False satoms:25 tatoms:36 sratio:0.6944444444444444\n",
      "Molecule is fragmented. Skipping.\n"
     ]
    },
    {
     "name": "stderr",
     "output_type": "stream",
     "text": [
      "Warning: Atom 14 in stable:False satoms:29 tatoms:36 sratio:0.8055555555555556 will remain unchanged due to an unsuitable valence for fixpka.  Continuing.\n",
      "Warning: Atom 14 in stable:False satoms:29 tatoms:36 sratio:0.8055555555555556 will remain unchanged due to an unsuitable valence for fixpka.  Continuing.\n"
     ]
    },
    {
     "name": "stdout",
     "output_type": "stream",
     "text": [
      "cleaning stable:False satoms:29 tatoms:36 sratio:0.8055555555555556\n",
      "docking stable:False satoms:29 tatoms:36 sratio:0.8055555555555556\n",
      "cleaning stable:False satoms:32 tatoms:36 sratio:0.8888888888888888\n",
      "Molecule is fragmented. Skipping.\n",
      "cleaning stable:False satoms:32 tatoms:36 sratio:0.8888888888888888\n",
      "Molecule is fragmented. Skipping.\n"
     ]
    },
    {
     "name": "stderr",
     "output_type": "stream",
     "text": [
      "Warning: OE3DToAtomStereo is unable to perceive atom stereo from a flat geometry on atom 17 of molecule 'stable:False satoms:28 tatoms:36 sratio:0.7777777777777778'\n",
      "Warning: OE3DToAtomStereo had a problem during OEWriteMolecule when writing 'stable:False satoms:28 tatoms:36 sratio:0.7777777777777778'\n"
     ]
    },
    {
     "name": "stdout",
     "output_type": "stream",
     "text": [
      "cleaning stable:False satoms:28 tatoms:36 sratio:0.7777777777777778\n",
      "docking stable:False satoms:28 tatoms:36 sratio:0.7777777777777778\n",
      "cleaning stable:False satoms:25 tatoms:36 sratio:0.6944444444444444\n",
      "Molecule is fragmented. Skipping.\n",
      "cleaning stable:False satoms:35 tatoms:36 sratio:0.9722222222222222\n",
      "docking stable:False satoms:35 tatoms:36 sratio:0.9722222222222222\n",
      "cleaning stable:False satoms:32 tatoms:36 sratio:0.8888888888888888\n",
      "docking stable:False satoms:32 tatoms:36 sratio:0.8888888888888888\n"
     ]
    },
    {
     "name": "stderr",
     "output_type": "stream",
     "text": [
      "Warning: OE3DToAtomStereo is unable to perceive atom stereo from a flat geometry on atom 15 of molecule 'stable:False satoms:26 tatoms:36 sratio:0.7222222222222222'\n",
      "Warning: OE3DToAtomStereo is unable to perceive atom stereo from a flat geometry on atom 21 of molecule 'stable:False satoms:26 tatoms:36 sratio:0.7222222222222222'\n",
      "Warning: OE3DToAtomStereo had a problem during OEWriteMolecule when writing 'stable:False satoms:26 tatoms:36 sratio:0.7222222222222222'\n"
     ]
    },
    {
     "name": "stdout",
     "output_type": "stream",
     "text": [
      "cleaning stable:False satoms:26 tatoms:36 sratio:0.7222222222222222\n",
      "docking stable:False satoms:26 tatoms:36 sratio:0.7222222222222222\n",
      "cleaning stable:False satoms:28 tatoms:36 sratio:0.7777777777777778\n",
      "Molecule is fragmented. Skipping.\n"
     ]
    }
   ],
   "source": [
    "import os\n",
    "import glob\n",
    "\n",
    "#------New code-------\n",
    "#This could probably be set to run in parallel\n",
    "#Only molecules that are not fragmented get docked\n",
    "\n",
    "exp_list = glob.glob(\"../experiments/exp_*\")\n",
    "\n",
    "if not os.path.exists(f'chemgauss_docking_cleaned/'):\n",
    "    os.makedirs(f'chemgauss_docking_cleaned/')\n",
    "        \n",
    "for exp in exp_list:\n",
    "    exp_id = exp.split(\"/\")[-1]\n",
    "    \n",
    "    if not os.path.exists(f'chemgauss_docking_cleaned/{exp_id}/'):\n",
    "        os.makedirs(f'chemgauss_docking_cleaned/{exp_id}/')\n",
    "        \n",
    "        \n",
    "    \n",
    "    ligands = glob.glob(f\"../experiments/{exp_id}/*.txt\")\n",
    "\n",
    "    for ligand in ligands:\n",
    "        mol_id = ligand.split(\"/\")[-1].split(\".\")[0]\n",
    "\n",
    "        with open(ligand, \"r\") as readfile:\n",
    "            file = readfile.read()\n",
    "\n",
    "        with open(\"tmp.xyz\",\"w\") as writefile:\n",
    "            writefile.write(file)\n",
    "        \n",
    "        #CleanThenDockMolecules - intended function: Read molecule, add missing protons at neutral pH, then dock.\n",
    "        #os.system(f'python CleanThenDockMolecules.py -in tmp.xyz -out chemgauss_docking_cleaned/{exp_id}/{mol_id}.sdf -receptor mpro2.oedu')"
   ]
  },
  {
   "cell_type": "markdown",
   "id": "022c05f1",
   "metadata": {},
   "source": [
    "# For visualisation only"
   ]
  },
  {
   "cell_type": "code",
   "execution_count": null,
   "id": "d43c7231",
   "metadata": {},
   "outputs": [],
   "source": [
    "\"\"\"\n",
    "import py3Dmol\n",
    "\n",
    "def show_mol_file(mol_file):\n",
    "    view = py3Dmol.view(query=mol_file)  \n",
    "    view.setStyle({'stick': {'color':'spectrum'}})\n",
    "    \n",
    "    \n",
    "    with open(mol_file) as readfile:\n",
    "        try:\n",
    "            print(\"score: \", readfile.readlines()[-3])\n",
    "        except:\n",
    "            print(\"Molecule was fragmented\")\n",
    "    \n",
    "    \n",
    "    return view.show()\n",
    "\"\"\""
   ]
  },
  {
   "cell_type": "code",
   "execution_count": 160,
   "id": "b5ed34ce",
   "metadata": {},
   "outputs": [],
   "source": [
    "\n",
    "#all_docks = glob.glob(\"chemgauss_docking_cleaned/exp_5/*.sdf\")\n",
    "#original_docking = [\"chemgauss_docking/exp_5/\"+x.split(\"/\")[-1].split(\".\")[0]+\".sdf\" for x in all_docks]\n",
    "#new_docking = [\"chemgauss_docking_cleaned/exp_5/\"+x.split(\"/\")[-1].split(\".\")[0]+\".sdf\" for x in all_docks]\n",
    "#original_xyz = [\"../experiments/exp_5/\"+x.split(\"/\")[-1].split(\".\")[0]+\".txt\" for x in all_docks]\n"
   ]
  },
  {
   "cell_type": "code",
   "execution_count": 161,
   "id": "752230e0",
   "metadata": {},
   "outputs": [],
   "source": [
    "#idx = 9"
   ]
  },
  {
   "cell_type": "code",
   "execution_count": 162,
   "id": "f8943826",
   "metadata": {},
   "outputs": [],
   "source": [
    "#Original xyz\n",
    "#show_mol_file(original_xyz[idx])"
   ]
  },
  {
   "cell_type": "code",
   "execution_count": 163,
   "id": "9bdc7df6",
   "metadata": {},
   "outputs": [],
   "source": [
    "#new docking\n",
    "#show_mol_file(new_docking[idx])"
   ]
  },
  {
   "cell_type": "code",
   "execution_count": 164,
   "id": "d5c3e9a9",
   "metadata": {},
   "outputs": [],
   "source": [
    "#Original docking\n",
    "#show_mol_file(original_docking[idx])"
   ]
  }
 ],
 "metadata": {
  "kernelspec": {
   "display_name": "Python 3 (ipykernel)",
   "language": "python",
   "name": "python3"
  },
  "language_info": {
   "codemirror_mode": {
    "name": "ipython",
    "version": 3
   },
   "file_extension": ".py",
   "mimetype": "text/x-python",
   "name": "python",
   "nbconvert_exporter": "python",
   "pygments_lexer": "ipython3",
   "version": "3.10.5"
  }
 },
 "nbformat": 4,
 "nbformat_minor": 5
}
