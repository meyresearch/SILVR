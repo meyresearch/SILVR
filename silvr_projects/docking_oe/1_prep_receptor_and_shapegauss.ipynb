{
 "cells": [
  {
   "cell_type": "markdown",
   "id": "404743b6",
   "metadata": {},
   "source": [
    "<div class=\"alert alert-block alert-danger\">The notebook for running shapegauss calculations is <b>6_shapegauss.ipynb</b>. This notenook was for creating the receptor and testing methods.</div>"
   ]
  },
  {
   "cell_type": "markdown",
   "id": "5e25fc52",
   "metadata": {},
   "source": [
    "# Scoring of poses with shapegauss - Toni check this"
   ]
  },
  {
   "cell_type": "code",
   "execution_count": null,
   "id": "f554d29b",
   "metadata": {},
   "outputs": [],
   "source": [
    "\"\"\"\n",
    "These comands were run in command line to prepare the receptor. \n",
    "python make_design_units.py \"../mpro_ligands/aligned/Mpro-x0072_0A/Mpro-x0072_0A_bound.pdb\"\n",
    "python MakeReceptor.py -in Mpro-x0072_0A_bound_DU_0.oedu -out mpro2.oedu\n",
    "\n",
    "\n",
    "Pose rescoring (ie scoring of pose without docking)\n",
    "RescorePoses.py\n",
    "\n",
    "\n",
    "Docking protocol (ligand moves around)\n",
    "RescorePoses.py\n",
    "\n",
    "\n",
    "Scripts were run as below\n",
    "os.system(f'python DockMolecules.py -in tmp.xyz -out chemgauss_docking/{exp_id}/{mol_id}.sdf -receptor mpro2.oedu')\n",
    "\"\"\""
   ]
  },
  {
   "cell_type": "markdown",
   "id": "a78887ab",
   "metadata": {},
   "source": [
    "# Protein preparation. Unfortunatly this step was not well documented, however I think only 2 lines were run below. "
   ]
  },
  {
   "cell_type": "code",
   "execution_count": null,
   "id": "7d4dc1ff",
   "metadata": {},
   "outputs": [],
   "source": [
    "#This isn't used\n",
    "\n",
    "#I did try and run this script, however I couldn't understand how it worked. I was struggling with design units here. \n",
    "#The output of this script was not used anywhere (at least this is what I believe)\n",
    "\n",
    "#!python make_apo_design_units.py ../mpro_ligands/aligned/Mpro-x0072_0A/Mpro-x0072_0A_bound.pdb"
   ]
  },
  {
   "cell_type": "code",
   "execution_count": null,
   "id": "1470def6",
   "metadata": {
    "scrolled": true
   },
   "outputs": [],
   "source": [
    "#This exact line was executed in the cell as written\n",
    "\n",
    "#!python make_design_units.py \"../mpro_ligands/aligned/Mpro-x0072_0A/Mpro-x0072_0A_bound.pdb\""
   ]
  },
  {
   "cell_type": "code",
   "execution_count": null,
   "id": "82422840",
   "metadata": {},
   "outputs": [],
   "source": [
    "#This exact line was executed in the cell as written\n",
    "\n",
    "#!python MakeReceptor.py -in Mpro-x0072_0A_bound_DU_0.oedu -out mpro2.oedu"
   ]
  },
  {
   "cell_type": "markdown",
   "id": "8f98812a",
   "metadata": {},
   "source": [
    "# Test run"
   ]
  },
  {
   "cell_type": "code",
   "execution_count": null,
   "id": "07032657",
   "metadata": {},
   "outputs": [],
   "source": [
    "#This was a test ligand\n",
    "\n",
    "ligand = \"../experiments/exp_19/mol_2023_02_09_1546300_000.xyz\"\n",
    "#Mpro_combined.sdf\n",
    "\n",
    "#This was to test whether scoring would run\n",
    "#\"-score Shapegauss\" defined the score function\n",
    "#!python RescorePoses.py -in \"../experiments/exp_19/mol_2023_02_09_1546300_000.xyz\" -out \"out.sdf\" -receptor mpro2.oedu -score Shapegauss"
   ]
  },
  {
   "cell_type": "code",
   "execution_count": null,
   "id": "652d33a5",
   "metadata": {},
   "outputs": [],
   "source": [
    "!ls ../mpro_ligands/*.xyz"
   ]
  },
  {
   "cell_type": "code",
   "execution_count": null,
   "id": "7707e2b1",
   "metadata": {},
   "outputs": [],
   "source": [
    "#!python DockMolecules.py -in ../mpro_ligands/Mpro-x0397_0A.xyz -out \"out.sdf\" -receptor mpro2.oedu"
   ]
  },
  {
   "cell_type": "code",
   "execution_count": 2,
   "id": "338dd1db",
   "metadata": {},
   "outputs": [
    {
     "name": "stdout",
     "output_type": "stream",
     "text": [
      "Traceback (most recent call last):\r\n",
      "  File \"/home/nichrun/Documents/silvr_project/docking_oe/RescorePoses.py\", line 21, in <module>\r\n",
      "    from openeye import oechem\r\n",
      "ModuleNotFoundError: No module named 'openeye'\r\n"
     ]
    }
   ],
   "source": [
    "!python RescorePoses.py -in \"../mpro_ligands/Mpro-x0397_0A.xyz\" -out \"out.sdf\" -receptor mpro2.oedu -score Shapegauss"
   ]
  },
  {
   "cell_type": "markdown",
   "id": "c2d172cd",
   "metadata": {},
   "source": [
    "# Validating protocol using Mpro fragment data "
   ]
  },
  {
   "cell_type": "code",
   "execution_count": null,
   "id": "d91a074c",
   "metadata": {},
   "outputs": [],
   "source": [
    "import os\n",
    "import glob\n",
    "\n",
    "ligands = glob.glob(\"../mpro_ligands/Mpro-*.xyz\")"
   ]
  },
  {
   "cell_type": "code",
   "execution_count": null,
   "id": "69247c4b",
   "metadata": {
    "scrolled": true
   },
   "outputs": [],
   "source": [
    "\"\"\"\n",
    "#Rescoring by shapegauss\n",
    "shapegauss_scores = []\n",
    "\n",
    "#os.system(f'python RescorePoses.py -in {ligand} -out \"out.sdf\" -receptor mpro2.oedu -score Shapegauss')\n",
    "\n",
    "for ligand in ligands:\n",
    "    os.system(f'python RescorePoses.py -in {ligand} -out \"out.sdf\" -receptor mpro2.oedu')\n",
    "    with open(\"out.sdf\", \"r\") as readfile:\n",
    "        shapegauss_scores.append(float(readfile.readlines()[-3]))\n",
    "\n",
    "\"\"\""
   ]
  },
  {
   "cell_type": "code",
   "execution_count": null,
   "id": "98bc531d",
   "metadata": {},
   "outputs": [],
   "source": [
    "#Docking\n",
    "\"\"\"\n",
    "docking_scores = []\n",
    "\n",
    "\n",
    "for ligand in ligands:\n",
    "    os.system(f'python DockMolecules.py -in {ligand} -out \"out.sdf\" -receptor mpro2.oedu')\n",
    "    with open(\"out.sdf\", \"r\") as readfile:\n",
    "        docking_scores.append(float(readfile.readlines()[-3]))\n",
    "\"\"\""
   ]
  },
  {
   "cell_type": "code",
   "execution_count": null,
   "id": "0b193711",
   "metadata": {
    "scrolled": true
   },
   "outputs": [],
   "source": [
    "for x,y in zip(shapegauss_scores,docking_scores):\n",
    "    print(x,y"
   ]
  },
  {
   "cell_type": "code",
   "execution_count": null,
   "id": "fed42ce8",
   "metadata": {},
   "outputs": [],
   "source": [
    "import matplotlib.pyplot as plt\n",
    "\n",
    "plt.scatter(shapegauss_scores[:9]+shapegauss_scores[10:15]+shapegauss_scores[20:], docking_scores[:9]+docking_scores[10:15]+docking_scores[20:])\n",
    "plt.plot([-8,2],[-8,2])\n",
    "\n",
    "plt.xlabel(\"rescoring of crystal structure\")\n",
    "plt.ylabel(\"docking score\")"
   ]
  },
  {
   "cell_type": "markdown",
   "id": "0d511c8e",
   "metadata": {},
   "source": [
    "# Shape scoring of generated samples"
   ]
  },
  {
   "cell_type": "code",
   "execution_count": null,
   "id": "d0a963de",
   "metadata": {},
   "outputs": [],
   "source": [
    "!ls ../experiments/exp_1/"
   ]
  },
  {
   "cell_type": "code",
   "execution_count": null,
   "id": "18fe6d8c",
   "metadata": {},
   "outputs": [],
   "source": [
    "import os\n",
    "import glob\n",
    "\n",
    "ligands = glob.glob(\"../experiments/exp_1/*.txt\")\n",
    "ligands"
   ]
  },
  {
   "cell_type": "code",
   "execution_count": null,
   "id": "5be6aa61",
   "metadata": {
    "scrolled": true
   },
   "outputs": [],
   "source": [
    "import os\n",
    "import glob\n",
    "\n",
    "exp_list = glob.glob(\"../experiments/exp_*\")\n",
    "exp_list.remove('../experiments/exp_1')\n",
    "\n",
    "\n",
    "for exp in exp_list:\n",
    "    exp_id = exp.split(\"/\")[-1]\n",
    "    \n",
    "    if not os.path.exists(f'shapegauss/{exp_id}/'):\n",
    "        os.makedirs(f'shapegauss/{exp_id}/')\n",
    "        \n",
    "        \n",
    "    \n",
    "    ligands = glob.glob(f\"../experiments/{exp_id}/*.txt\")\n",
    "\n",
    "    for ligand in ligands:\n",
    "        mol_id = ligand.split(\"/\")[-1].split(\".\")[0]\n",
    "\n",
    "        with open(ligand, \"r\") as readfile:\n",
    "            file = readfile.read()\n",
    "\n",
    "        with open(\"tmp.xyz\",\"w\") as writefile:\n",
    "            writefile.write(file)\n",
    "\n",
    "\n",
    "        #os.system(f'python RescorePoses.py -in tmp.xyz -out shapegauss/{exp_id}/{mol_id}.sdf -receptor mpro2.oedu -score Shapegauss')"
   ]
  },
  {
   "cell_type": "markdown",
   "id": "27d3608e",
   "metadata": {},
   "source": [
    "# Solving proton issue"
   ]
  },
  {
   "cell_type": "code",
   "execution_count": null,
   "id": "b83cd0c6",
   "metadata": {},
   "outputs": [],
   "source": [
    "#Modifiy mcmol in the DockMolecules.py protocol"
   ]
  }
 ],
 "metadata": {
  "kernelspec": {
   "display_name": "Python 3 (ipykernel)",
   "language": "python",
   "name": "python3"
  },
  "language_info": {
   "codemirror_mode": {
    "name": "ipython",
    "version": 3
   },
   "file_extension": ".py",
   "mimetype": "text/x-python",
   "name": "python",
   "nbconvert_exporter": "python",
   "pygments_lexer": "ipython3",
   "version": "3.10.5"
  }
 },
 "nbformat": 4,
 "nbformat_minor": 5
}
