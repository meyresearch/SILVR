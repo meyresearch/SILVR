{
 "cells": [
  {
   "cell_type": "markdown",
   "id": "b6cf285b",
   "metadata": {},
   "source": [
    "# This notebook can be run to sample SILVR directly"
   ]
  },
  {
   "cell_type": "code",
   "execution_count": 1,
   "id": "27f0dbac",
   "metadata": {},
   "outputs": [
    {
     "data": {
      "application/vnd.jupyter.widget-view+json": {
       "model_id": "8e7fcefe443b410aa2a8ff46b716c3bc",
       "version_major": 2,
       "version_minor": 0
      },
      "text/plain": []
     },
     "metadata": {},
     "output_type": "display_data"
    }
   ],
   "source": [
    "from silvr_demo import * \n",
    "import nglview as nv"
   ]
  },
  {
   "cell_type": "markdown",
   "id": "79cb6ba2",
   "metadata": {},
   "source": [
    "# Reference coordinates\n",
    "\n",
    "Users can write their own sxyz file here. This takes a very similar form to an XYZ file.\n",
    "\n",
    "`First line` - total number of atoms in the file\n",
    "\n",
    "`Second line` - experiment setup information. Dummy atoms refer to atoms that are not mapped to a reference atom. These are added at run time. This feature is unstable. Samples normally defines the total number of samples to take, however in this demo sampling is fixed to n=1. The comment then holds any useful information, in this case the fragments used to create this file are listed.\n",
    "\n",
    "`Third line onwards` - element, XYZ coordinates, and silvr rate. The silvr rate value can be any value `0 < silvr rate < 1`. In general `rate = 0.005` gives weak similarity and high diversity, `rate = 0.01` gives high similarity and lower diversity. Values of rate greater than 0.01 tend to be unstable. "
   ]
  },
  {
   "cell_type": "code",
   "execution_count": 2,
   "id": "b28c31aa",
   "metadata": {},
   "outputs": [],
   "source": [
    "#This experiment file is the same as in exp_25\n",
    "\n",
    "reference_file = \"\"\"31\n",
    "dummy:0 samples:1 comment:Mpro-x0072_0A and Mpro-x0354_0A\n",
    "C 6.565000 -5.040000 26.574000 0.005\n",
    "C 9.451000 -3.115000 24.169000 0.005\n",
    "C 9.351000 -1.831000 23.357000 0.005\n",
    "C 10.748000 -1.232000 23.404000 0.005\n",
    "C 11.059000 -0.192000 24.271000 0.005\n",
    "C 12.351000 0.308000 24.296000 0.005\n",
    "C 13.328000 -0.245000 23.484000 0.005\n",
    "C 13.014000 -1.293000 22.628000 0.005\n",
    "C 11.724000 -1.783000 22.597000 0.005\n",
    "N 8.196000 -3.620000 24.664000 0.005\n",
    "O 9.210000 -5.539000 26.160000 0.005\n",
    "O 8.777000 -3.612000 27.202000 0.005\n",
    "S 8.227000 -4.451000 26.151000 0.005\n",
    "C 13.279000 -1.110000 22.551000 0.005\n",
    "C 7.346000 2.688000 29.320000 0.005\n",
    "C 6.134000 2.589000 29.975000 0.005\n",
    "C 5.628000 3.702000 30.845000 0.005\n",
    "C 5.404000 1.427000 29.813000 0.005\n",
    "C 5.859000 0.384000 29.020000 0.005\n",
    "C 11.775000 -0.177000 24.186000 0.005\n",
    "C 11.066000 -0.452000 25.490000 0.005\n",
    "C 10.725000 -2.763000 24.771000 0.005\n",
    "C 11.499000 -2.435000 23.512000 0.005\n",
    "C 8.841000 -1.493000 25.784000 0.005\n",
    "C 8.429000 -0.247000 26.557000 0.005\n",
    "C 7.074000 0.503000 28.364000 0.005\n",
    "C 7.822000 1.666000 28.515000 0.005\n",
    "N 12.482000 -1.377000 23.748000 0.005\n",
    "N 10.120000 -1.564000 25.357000 0.005\n",
    "O 8.009000 -2.377000 25.574000 0.005\n",
    "O 7.503000 -0.545000 27.591000 0.005\"\"\"#Make sure the \"\"\" is on this line"
   ]
  },
  {
   "cell_type": "markdown",
   "id": "44ee94e1",
   "metadata": {},
   "source": [
    "# Sample SILVR"
   ]
  },
  {
   "cell_type": "code",
   "execution_count": 3,
   "id": "ab24392b",
   "metadata": {},
   "outputs": [
    {
     "name": "stdout",
     "output_type": "stream",
     "text": [
      "Entropy of n_nodes: H[N] -3.718651056289673\n",
      "alphas2 [9.99990000e-01 9.99988000e-01 9.99982000e-01 ... 2.59676966e-05\n",
      " 1.39959211e-05 1.00039959e-05]\n",
      "gamma [-11.51291546 -11.33059532 -10.92513058 ...  10.55863126  11.17673063\n",
      "  11.51251595]\n",
      "Total sampling time:  39.221710443496704  seconds\n"
     ]
    }
   ],
   "source": [
    "sample_silvr(reference_file)"
   ]
  },
  {
   "cell_type": "code",
   "execution_count": 4,
   "id": "a3f93dbc",
   "metadata": {},
   "outputs": [
    {
     "name": "stderr",
     "output_type": "stream",
     "text": [
      "[22:40:33] Running Uncharger\n",
      "[22:40:33] Removed negative charge.\n",
      "[22:40:33] Removed negative charge.\n"
     ]
    },
    {
     "data": {
      "image/png": "[encoded data removed]",
      "text/plain": [
       "<rdkit.Chem.rdchem.Mol at 0x7f6447b2b160>"
      ]
     },
     "execution_count": 4,
     "metadata": {},
     "output_type": "execute_result"
    }
   ],
   "source": [
    "mol = get_mol()\n",
    "Chem.MolFromSmiles(Chem.MolToSmiles(mol))"
   ]
  },
  {
   "cell_type": "markdown",
   "id": "1bf06779",
   "metadata": {},
   "source": [
    "# Display sample"
   ]
  },
  {
   "cell_type": "code",
   "execution_count": 7,
   "id": "3392784d",
   "metadata": {},
   "outputs": [],
   "source": [
    "view = nv.show_file(\"docking_oe/mpro_unbound.pdb\")\n",
    "view.add_component(mol)\n",
    "\n",
    "#Show protein surface and make white\n",
    "view[0].clear_representations()\n",
    "view[0].add_surface(selection=\"protein\", color=\"white\")\n",
    "\n",
    "#Show sample as licorice\n",
    "view[1].clear_representations()\n",
    "view[1].add_licorice(sele=\"NOT _H\", radius=0.2)\n",
    "\n",
    "#Rotate view so sample can be seen\n",
    "view[1].center()\n",
    "view.control.spin([0, 1, 0], 4.4)\n",
    "view.control.spin([1, 0, 0], -0.35)\n",
    "\n",
    "#Hide protein: view[0].hide()\n",
    "#show protein: view[0].show()\n",
    "\n",
    "#Because of relative sizes of components, it may appear like there is protein-ligand clash when there is not. "
   ]
  },
  {
   "cell_type": "code",
   "execution_count": 8,
   "id": "ce6eb539",
   "metadata": {
    "scrolled": true
   },
   "outputs": [
    {
     "data": {
      "application/vnd.jupyter.widget-view+json": {
       "model_id": "eadad751fc5743afbad59fe0ab458903",
       "version_major": 2,
       "version_minor": 0
      },
      "text/plain": [
       "NGLWidget()"
      ]
     },
     "metadata": {},
     "output_type": "display_data"
    }
   ],
   "source": [
    "view"
   ]
  }
 ],
 "metadata": {
  "kernelspec": {
   "display_name": "Python 3 (ipykernel)",
   "language": "python",
   "name": "python3"
  },
  "language_info": {
   "codemirror_mode": {
    "name": "ipython",
    "version": 3
   },
   "file_extension": ".py",
   "mimetype": "text/x-python",
   "name": "python",
   "nbconvert_exporter": "python",
   "pygments_lexer": "ipython3",
   "version": "3.10.5"
  }
 },
 "nbformat": 4,
 "nbformat_minor": 5
}
