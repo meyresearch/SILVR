{
 "cells": [
  {
   "cell_type": "markdown",
   "id": "f9cace38",
   "metadata": {},
   "source": [
    "<div class=\"alert alert-block alert-danger\"> This notebook must be run in an OpenEye environment and requires and OpenEye licence file. </div>"
   ]
  },
  {
   "cell_type": "markdown",
   "id": "d73e6cd1",
   "metadata": {},
   "source": [
    "# This notebook runs shapegauss scoring using openeye - this notebook must be run in the oepython environment. "
   ]
  },
  {
   "cell_type": "code",
   "execution_count": 5,
   "id": "1ff06dc0",
   "metadata": {},
   "outputs": [],
   "source": [
    "exp_names = [\"exp_22\",\"exp_23\",\"exp_24\",\"exp_25\",\"exp_26\",\"exp_27\",\"exp_28\"]\n",
    "exp_list = [f\"experiments/{x}\" for x in exp_names]"
   ]
  },
  {
   "cell_type": "code",
   "execution_count": 9,
   "id": "4ec6b7cd",
   "metadata": {},
   "outputs": [],
   "source": [
    "import os\n",
    "import glob\n",
    "\n",
    "for exp in exp_list:\n",
    "    exp_id = exp.split(\"/\")[-1]\n",
    "    \n",
    "    if not os.path.exists(f'shapegauss/{exp_id}/'):\n",
    "        os.makedirs(f'shapegauss/{exp_id}/')\n",
    "    \n",
    "    ligands = glob.glob(exp+\"/*.txt\")\n",
    "    \n",
    "    \n",
    "    for ligand in ligands:\n",
    "        mol_id = ligand.split(\"/\")[-1].split(\".\")[0]\n",
    "\n",
    "        with open(ligand, \"r\") as readfile:\n",
    "            file = readfile.read()\n",
    "\n",
    "        with open(\"tmp.xyz\",\"w\") as writefile:\n",
    "            writefile.write(file)\n",
    "\n",
    "        os.system(f'python docking_oe/RescorePoses.py -in tmp.xyz -out shapegauss/{exp_id}/{mol_id}.sdf -receptor docking_oe/mpro2.oedu -score Shapegauss')"
   ]
  }
 ],
 "metadata": {
  "kernelspec": {
   "display_name": "Python 3 (ipykernel)",
   "language": "python",
   "name": "python3"
  },
  "language_info": {
   "codemirror_mode": {
    "name": "ipython",
    "version": 3
   },
   "file_extension": ".py",
   "mimetype": "text/x-python",
   "name": "python",
   "nbconvert_exporter": "python",
   "pygments_lexer": "ipython3",
   "version": "3.10.5"
  }
 },
 "nbformat": 4,
 "nbformat_minor": 5
}
